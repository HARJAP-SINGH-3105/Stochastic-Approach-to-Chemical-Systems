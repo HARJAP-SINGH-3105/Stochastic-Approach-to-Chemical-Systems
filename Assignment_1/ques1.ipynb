{
 "cells": [
  {
   "cell_type": "code",
   "execution_count": 1,
   "id": "d3389b69",
   "metadata": {},
   "outputs": [
    {
     "name": "stdout",
     "output_type": "stream",
     "text": [
      "enter p0.5\n",
      "0\n"
     ]
    }
   ],
   "source": [
    "import random\n",
    "\n",
    "def genbernoulli(p):\n",
    "    \n",
    "   \n",
    "    u = random.uniform(0, 1)\n",
    "    if u <= p:\n",
    "        return 1\n",
    "    else:\n",
    "        return 0\n",
    "    \n",
    "p=float(input('enter p'))\n",
    "x=genbernoulli(p)\n",
    "print(x)\n"
   ]
  },
  {
   "cell_type": "code",
   "execution_count": null,
   "id": "903dea94",
   "metadata": {},
   "outputs": [],
   "source": []
  }
 ],
 "metadata": {
  "kernelspec": {
   "display_name": "Python 3 (ipykernel)",
   "language": "python",
   "name": "python3"
  },
  "language_info": {
   "codemirror_mode": {
    "name": "ipython",
    "version": 3
   },
   "file_extension": ".py",
   "mimetype": "text/x-python",
   "name": "python",
   "nbconvert_exporter": "python",
   "pygments_lexer": "ipython3",
   "version": "3.9.12"
  }
 },
 "nbformat": 4,
 "nbformat_minor": 5
}
