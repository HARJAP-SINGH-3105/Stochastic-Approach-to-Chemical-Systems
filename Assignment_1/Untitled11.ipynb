{
 "cells": [
  {
   "cell_type": "code",
   "execution_count": null,
   "id": "618575ad",
   "metadata": {},
   "outputs": [],
   "source": [
    "import matplotlib.pyplot as plt\n",
    "import math\n",
    "\n",
    "def discrete_accept_reject_sampler(n, p, num_samples):\n",
    "    samples = []\n",
    "    lambda_ = n * p \n",
    "    \n",
    "    while len(samples) < num_samples:\n",
    "        \n",
    "        k = np.random.poisson(lambda_)\n",
    "        \n",
    "        \n",
    "        u = np.random.uniform(0, 1)\n",
    "        \n",
    "        # Accept the sample with probability Binomial(n, p) / (lambda_^k / k!)\n",
    "        if u < (p ** k) * ((1 - p) ** (n - k)) * np.math.factorial(n) / (np.math.factorial(k) * np.math.factorial(n - k) * (lambda_ ** k)):\n",
    "            samples.append(k)\n",
    "    \n",
    "    return np.array(samples)\n",
    "\n",
    "# Parameters\n",
    "n = int(input('enter n:'))\n",
    "p = float(input('enter p'))\n",
    "num_samples = 10000\n",
    "\n",
    "\n",
    "samples = discrete_accept_reject_sampler(n, p, num_samples)\n",
    "mean = np.mean(samples)\n",
    "variance = np.var(samples)\n",
    "\n",
    "print(\"Mean :\", mean)\n",
    "print(\"Variance :\", variance)\n",
    "\n",
    "# Plot histogram of samples\n",
    "plt.hist(samples, bins=range(n+1), align='left', rwidth=0.8)\n",
    "plt.xticks(range(n+1))\n",
    "plt.xlabel(\"k\")\n",
    "plt.ylabel(\"Frequency\")\n",
    "plt.title(\"Histogram \")\n",
    "plt.show()"
   ]
  }
 ],
 "metadata": {
  "kernelspec": {
   "display_name": "Python 3 (ipykernel)",
   "language": "python",
   "name": "python3"
  },
  "language_info": {
   "codemirror_mode": {
    "name": "ipython",
    "version": 3
   },
   "file_extension": ".py",
   "mimetype": "text/x-python",
   "name": "python",
   "nbconvert_exporter": "python",
   "pygments_lexer": "ipython3",
   "version": "3.9.12"
  }
 },
 "nbformat": 4,
 "nbformat_minor": 5
}
